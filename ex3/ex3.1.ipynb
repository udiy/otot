{
 "cells": [
  {
   "cell_type": "code",
   "execution_count": 1,
   "metadata": {
    "ExecuteTime": {
     "end_time": "2019-12-21T17:23:19.020424Z",
     "start_time": "2019-12-21T17:23:18.628503Z"
    }
   },
   "outputs": [],
   "source": [
    "import numpy as np\n"
   ]
  },
  {
   "cell_type": "code",
   "execution_count": 3,
   "metadata": {
    "ExecuteTime": {
     "end_time": "2019-12-21T17:23:26.962791Z",
     "start_time": "2019-12-21T17:23:26.956794Z"
    }
   },
   "outputs": [],
   "source": [
    "def sinc_interp(t, xn, dt):\n",
    "    \n",
    "    \"\"\"\n",
    "    Perfroms a sinc interpolation\n",
    "    \n",
    "    Parameters\n",
    "    ----------\n",
    "    t: float\n",
    "        Desired time at which we want to estimate the original signal\n",
    "    \n",
    "    xn: array-like\n",
    "        Interpolation points values\n",
    "    \n",
    "    dt: float\n",
    "        Sampling rate\n",
    "    \"\"\"\n",
    "    \n",
    "    return sum([xn[n] *  np.sinc(np.pi*(t-n*dt)/dt) for n in range(len(xn))])"
   ]
  },
  {
   "cell_type": "code",
   "execution_count": 16,
   "metadata": {
    "ExecuteTime": {
     "end_time": "2019-12-21T17:29:36.036716Z",
     "start_time": "2019-12-21T17:29:36.028719Z"
    }
   },
   "outputs": [
    {
     "name": "stdout",
     "output_type": "stream",
     "text": [
      "\n",
      "    Estimating exp(-t^2) at t = 2.3.\n",
      "    \n",
      "    Analytic result: 0.005041760259690983\n",
      "    \n",
      "    Difference from sinc interpolation\n",
      "    ----------------------------------\n",
      "    \n",
      "    -\t5 points: 0.004685560663069174\n",
      "    -\t7 points: 0.0031364396674799094\n",
      "    -\t9 points: 0.00518959687957918\n",
      "\n"
     ]
    }
   ],
   "source": [
    "# define function\n",
    "f = lambda t: np.exp(-(t**2))\n",
    "\n",
    "dt = 0.5    # sampling rate in seconds\n",
    "t = np.arange(0,5,dt)    # sampling points\n",
    "xn = f(t)\n",
    "\n",
    "ti = 2.3    # the point we want to interpolate\n",
    "\n",
    "analytic = f(ti)    # analytic result\n",
    "diff5 = np.abs(f(ti) - sinc_interp(ti, xn[4:9], dt))    # 5 points\n",
    "diff7 = np.abs(f(ti) - sinc_interp(ti, xn[3:10], dt))    # 7 points\n",
    "diff9 = np.abs(f(ti) - sinc_interp(ti, xn[1:10], dt))    # 9 points\n",
    "\n",
    "\n",
    "print(f\"\"\"\n",
    "    Estimating exp(-t^2) at t = {ti}.\n",
    "    \n",
    "    Analytic result: {analytic}\n",
    "    \n",
    "    Difference from sinc interpolation\n",
    "    ----------------------------------\n",
    "    \n",
    "    -\\t5 points: {diff5}\n",
    "    -\\t7 points: {diff7}\n",
    "    -\\t9 points: {diff9}\n",
    "\"\"\")"
   ]
  },
  {
   "cell_type": "code",
   "execution_count": null,
   "metadata": {},
   "outputs": [],
   "source": []
  }
 ],
 "metadata": {
  "hide_input": false,
  "kernelspec": {
   "display_name": "Python 3",
   "language": "python",
   "name": "python3"
  },
  "language_info": {
   "codemirror_mode": {
    "name": "ipython",
    "version": 3
   },
   "file_extension": ".py",
   "mimetype": "text/x-python",
   "name": "python",
   "nbconvert_exporter": "python",
   "pygments_lexer": "ipython3",
   "version": "3.7.3"
  },
  "toc": {
   "base_numbering": 1,
   "nav_menu": {},
   "number_sections": true,
   "sideBar": true,
   "skip_h1_title": false,
   "title_cell": "Table of Contents",
   "title_sidebar": "Contents",
   "toc_cell": false,
   "toc_position": {},
   "toc_section_display": true,
   "toc_window_display": false
  },
  "varInspector": {
   "cols": {
    "lenName": 16,
    "lenType": 16,
    "lenVar": 40
   },
   "kernels_config": {
    "python": {
     "delete_cmd_postfix": "",
     "delete_cmd_prefix": "del ",
     "library": "var_list.py",
     "varRefreshCmd": "print(var_dic_list())"
    },
    "r": {
     "delete_cmd_postfix": ") ",
     "delete_cmd_prefix": "rm(",
     "library": "var_list.r",
     "varRefreshCmd": "cat(var_dic_list()) "
    }
   },
   "types_to_exclude": [
    "module",
    "function",
    "builtin_function_or_method",
    "instance",
    "_Feature"
   ],
   "window_display": false
  }
 },
 "nbformat": 4,
 "nbformat_minor": 2
}
