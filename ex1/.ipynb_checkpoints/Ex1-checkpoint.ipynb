{
 "cells": [
  {
   "cell_type": "code",
   "execution_count": 1,
   "metadata": {
    "ExecuteTime": {
     "end_time": "2019-11-16T16:19:12.482289Z",
     "start_time": "2019-11-16T16:19:12.163623Z"
    }
   },
   "outputs": [],
   "source": [
    "import numpy as np"
   ]
  },
  {
   "cell_type": "code",
   "execution_count": 2,
   "metadata": {
    "ExecuteTime": {
     "end_time": "2019-11-16T16:19:13.083270Z",
     "start_time": "2019-11-16T16:19:13.073262Z"
    }
   },
   "outputs": [],
   "source": [
    "def conv(f, g):\n",
    "    \n",
    "    \"\"\"\n",
    "    Perform convolution for series f and g\n",
    "    \n",
    "    Parameters\n",
    "    ----------\n",
    "    f, g: array-like\n",
    "        List of numbers\n",
    "    \"\"\"\n",
    "    \n",
    "    # cast to numpy arrays to perform vectorized operations\n",
    "    f = np.array(f)\n",
    "    g = np.array(g)\n",
    "    \n",
    "    n = len(f)\n",
    "    m = len(g)\n",
    "    \n",
    "    # initialize a zero valued array for output\n",
    "    y = np.zeros(m+n-1)\n",
    "    \n",
    "    for i in range(n):\n",
    "        \n",
    "        # multiply g by ith element of f\n",
    "        yi = f[i] * g\n",
    "        \n",
    "        # pad array with zeros for unused indicies\n",
    "        yi = np.pad(yi, (i,n-i-1), \"constant\")\n",
    "        \n",
    "        # add to final result\n",
    "        y += yi\n",
    "        \n",
    "    return y"
   ]
  },
  {
   "cell_type": "code",
   "execution_count": 3,
   "metadata": {
    "ExecuteTime": {
     "end_time": "2019-11-16T16:19:13.996252Z",
     "start_time": "2019-11-16T16:19:13.986258Z"
    }
   },
   "outputs": [
    {
     "data": {
      "text/plain": [
       "array([ -6.,  25.,  -1., -11.,  33.,  20.])"
      ]
     },
     "execution_count": 3,
     "metadata": {},
     "output_type": "execute_result"
    }
   ],
   "source": [
    "f = [-2, 7, 5]\n",
    "g = [3, -2, 1, 4]\n",
    "\n",
    "conv(f, g)"
   ]
  },
  {
   "cell_type": "code",
   "execution_count": null,
   "metadata": {},
   "outputs": [],
   "source": []
  }
 ],
 "metadata": {
  "hide_input": false,
  "kernelspec": {
   "display_name": "Python 3",
   "language": "python",
   "name": "python3"
  },
  "language_info": {
   "codemirror_mode": {
    "name": "ipython",
    "version": 3
   },
   "file_extension": ".py",
   "mimetype": "text/x-python",
   "name": "python",
   "nbconvert_exporter": "python",
   "pygments_lexer": "ipython3",
   "version": "3.7.6"
  },
  "toc": {
   "base_numbering": 1,
   "nav_menu": {},
   "number_sections": true,
   "sideBar": true,
   "skip_h1_title": false,
   "title_cell": "Table of Contents",
   "title_sidebar": "Contents",
   "toc_cell": false,
   "toc_position": {},
   "toc_section_display": true,
   "toc_window_display": false
  },
  "varInspector": {
   "cols": {
    "lenName": 16,
    "lenType": 16,
    "lenVar": 40
   },
   "kernels_config": {
    "python": {
     "delete_cmd_postfix": "",
     "delete_cmd_prefix": "del ",
     "library": "var_list.py",
     "varRefreshCmd": "print(var_dic_list())"
    },
    "r": {
     "delete_cmd_postfix": ") ",
     "delete_cmd_prefix": "rm(",
     "library": "var_list.r",
     "varRefreshCmd": "cat(var_dic_list()) "
    }
   },
   "types_to_exclude": [
    "module",
    "function",
    "builtin_function_or_method",
    "instance",
    "_Feature"
   ],
   "window_display": false
  }
 },
 "nbformat": 4,
 "nbformat_minor": 2
}
