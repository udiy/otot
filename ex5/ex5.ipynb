{
 "cells": [
  {
   "cell_type": "code",
   "execution_count": 1,
   "metadata": {
    "ExecuteTime": {
     "end_time": "2020-01-16T13:04:47.967186Z",
     "start_time": "2020-01-16T13:04:47.758790Z"
    }
   },
   "outputs": [],
   "source": [
    "import numpy as np"
   ]
  },
  {
   "cell_type": "code",
   "execution_count": 2,
   "metadata": {
    "ExecuteTime": {
     "end_time": "2020-01-16T13:04:48.718861Z",
     "start_time": "2020-01-16T13:04:48.709228Z"
    }
   },
   "outputs": [],
   "source": [
    "def cyc_conv(f, g):\n",
    "    \n",
    "    \"\"\"\n",
    "    Perform a cyclic convolution for f and g\n",
    "    \n",
    "    Parameters\n",
    "    ----------\n",
    "    \n",
    "    f, g: array-like\n",
    "    \"\"\"\n",
    "    \n",
    "    # check length of f and g\n",
    "    m = len(f)\n",
    "    n = len(g)\n",
    "    \n",
    "    \n",
    "    # if f and g are not of the same length, zero padding is needed\n",
    "    if m != n:\n",
    "        N = m + n - 1\n",
    "        f = np.pad(f, (0, N - m))\n",
    "        g = np.pad(g, (0, N - n))\n",
    "    else:\n",
    "        N = m\n",
    "        \n",
    "        \n",
    "    # initialize an array for results\n",
    "    h = np.zeros(N)\n",
    "\n",
    "    for i in range(N):\n",
    "        h[i] = sum([f[j] * g[(i-j)%N] for j in range(N)])\n",
    "        \n",
    "    return h"
   ]
  },
  {
   "cell_type": "code",
   "execution_count": 13,
   "metadata": {
    "ExecuteTime": {
     "end_time": "2020-01-16T13:30:30.276742Z",
     "start_time": "2020-01-16T13:30:30.269098Z"
    }
   },
   "outputs": [],
   "source": [
    "def dft(x):\n",
    "    \n",
    "    \"\"\"\n",
    "    Perfom DFT for x\n",
    "    \n",
    "    Parameters\n",
    "    ----------\n",
    "    x: array-like\n",
    "    \"\"\"\n",
    "    \n",
    "    N = len(x)\n",
    "    \n",
    "    # array for results\n",
    "    X = np.zeros(N, dtype=complex)\n",
    "    \n",
    "    # define exponent factor\n",
    "    W = np.exp(-1j * (2*np.pi / N))\n",
    "    \n",
    "    for k in range(N):\n",
    "        \n",
    "        X[k] = sum([x[n]*(W**(k*n)) for n in range(N)])\n",
    "        \n",
    "    return X"
   ]
  },
  {
   "cell_type": "code",
   "execution_count": 24,
   "metadata": {
    "ExecuteTime": {
     "end_time": "2020-01-16T13:42:15.759993Z",
     "start_time": "2020-01-16T13:42:15.750073Z"
    }
   },
   "outputs": [],
   "source": [
    "def idft(X):\n",
    "    \n",
    "    \"\"\"\n",
    "    Inverse DFT for X\n",
    "    \n",
    "    Parameters\n",
    "    ----------\n",
    "    X: array-like\n",
    "    \"\"\"\n",
    "    \n",
    "    N = len(X)\n",
    "    \n",
    "    # array for results\n",
    "    x = np.zeros(N, dtype=complex)\n",
    "    \n",
    "    # define exponent factor\n",
    "    W = np.exp(-1j * (2*np.pi / N))\n",
    "    \n",
    "    for n in range(N):\n",
    "        \n",
    "        x[n] = sum([X[k]*(W**(-k*n)) for k in range(N)]) / N\n",
    "        \n",
    "    return x"
   ]
  },
  {
   "cell_type": "code",
   "execution_count": 6,
   "metadata": {
    "ExecuteTime": {
     "end_time": "2020-01-16T13:06:57.379348Z",
     "start_time": "2020-01-16T13:06:57.373396Z"
    }
   },
   "outputs": [],
   "source": [
    "x = [1, -1, -1, -1, 1, 0, 1, 2]\n",
    "y = [5, -4, 3, 2, -1, 1, 0, -1]"
   ]
  },
  {
   "cell_type": "markdown",
   "metadata": {},
   "source": [
    "# Direct convolution"
   ]
  },
  {
   "cell_type": "code",
   "execution_count": 11,
   "metadata": {
    "ExecuteTime": {
     "end_time": "2020-01-16T13:30:00.166440Z",
     "start_time": "2020-01-16T13:30:00.157407Z"
    }
   },
   "outputs": [
    {
     "data": {
      "text/plain": [
       "array([-1.,  1.,  6., -4.,  5., -8.,  4.,  7.])"
      ]
     },
     "execution_count": 11,
     "metadata": {},
     "output_type": "execute_result"
    }
   ],
   "source": [
    "cyc_conv(x, y)"
   ]
  },
  {
   "cell_type": "markdown",
   "metadata": {},
   "source": [
    "# Using DFT, multiplying in frequency domain, then iDFT"
   ]
  },
  {
   "cell_type": "code",
   "execution_count": 15,
   "metadata": {
    "ExecuteTime": {
     "end_time": "2020-01-16T13:32:46.100970Z",
     "start_time": "2020-01-16T13:32:46.096322Z"
    }
   },
   "outputs": [],
   "source": [
    "X = dft(x)\n",
    "Y = dft(y)"
   ]
  },
  {
   "cell_type": "code",
   "execution_count": 26,
   "metadata": {
    "ExecuteTime": {
     "end_time": "2020-01-16T13:42:39.774704Z",
     "start_time": "2020-01-16T13:42:39.765320Z"
    }
   },
   "outputs": [
    {
     "data": {
      "text/plain": [
       "array([-1.+6.10622664e-15j,  1.+8.21565038e-15j,  6.-1.08801856e-14j,\n",
       "       -4.-5.66213743e-15j,  5.-3.44169138e-15j, -8.-2.99760217e-15j,\n",
       "        4.+0.00000000e+00j,  7.+8.88178420e-16j])"
      ]
     },
     "execution_count": 26,
     "metadata": {},
     "output_type": "execute_result"
    }
   ],
   "source": [
    "idft(X * Y)"
   ]
  },
  {
   "cell_type": "code",
   "execution_count": null,
   "metadata": {},
   "outputs": [],
   "source": []
  }
 ],
 "metadata": {
  "hide_input": false,
  "kernelspec": {
   "display_name": "Python 3",
   "language": "python",
   "name": "python3"
  },
  "language_info": {
   "codemirror_mode": {
    "name": "ipython",
    "version": 3
   },
   "file_extension": ".py",
   "mimetype": "text/x-python",
   "name": "python",
   "nbconvert_exporter": "python",
   "pygments_lexer": "ipython3",
   "version": "3.7.6"
  },
  "toc": {
   "base_numbering": 1,
   "nav_menu": {},
   "number_sections": true,
   "sideBar": true,
   "skip_h1_title": false,
   "title_cell": "Table of Contents",
   "title_sidebar": "Contents",
   "toc_cell": false,
   "toc_position": {},
   "toc_section_display": true,
   "toc_window_display": false
  }
 },
 "nbformat": 4,
 "nbformat_minor": 4
}
